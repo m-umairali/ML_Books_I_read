{
 "cells": [
  {
   "cell_type": "markdown",
   "metadata": {},
   "source": [
    "## Modeling Mindset\n",
    "### Chapter 1\n",
    "The question of whether linear regression fits within statistical modeling or machine learning misconstrues the flexibility of modeling. It's the mindset of the modeler, not the method, that truly matters.\n",
    "\n",
    "Diverse mindsets can be subtly transformative. Often, we fixate on methods rather than mindset, leaving blind spots in our modeling. My statistical upbringing led to limitations in causal reasoning and prediction. Embracing new mindsets was the solution.\n",
    "\n",
    "\"Modeling Mindsets\" stems from Leo Breiman's timeless \"Statistical Modeling: The Two Cultures.\" It emphasizes that modeling surpasses math—it's a worldview. This book distills a decade of experience into a concise, non-mathematical guide.\n",
    "\n",
    "My hope is that this enduring book enriches your journey for years to come."
   ]
  },
  {
   "cell_type": "markdown",
   "metadata": {},
   "source": [
    "**Model:** \n",
    "A mathematical model that consists of variables and functions. Variables have different names in different mindsets: Random variables, covariates, predictors, latent variables, features, targets, and outcomes. For example, the “target” or “dependent variable” is the variable the modeler wants to predict."
   ]
  },
  {
   "cell_type": "markdown",
   "metadata": {},
   "source": [
    "**Functions:**\n",
    "\n",
    "Functions relate variables to each other. For instance, if you have two variables, X and Y, a function could describe how Y changes as X changes. \n",
    "\n",
    "**Connecting Functions to Data:**\n",
    "\n",
    "Modelers use data to determine the best function that describes the relationship between variables. Depending on the modeler's perspective, this process might be called estimation, training, fitting, or learning. The goal is to optimize the model's function using data.\n",
    "\n",
    "Remember, the concept of the \"best\" model depends on the modeler's perspective and goals. Different approaches might be suitable for different situations, and the chosen mindset shapes how these concepts are applied in practice.\n",
    "\n",
    "Consider a linear regression model predicting regional rice yield based on rainfall, temperature, and fertilizer use:\n",
    "- **Causal Interpretation:** Whether the fertilizer affects rice yield causally depends on the modeling mindset.\n",
    "- **Prediction Quality:** Assessing if the model is good for yield predictions depends on a supervised learning mindset and proper generalization error evaluation.\n",
    "- **Significance of Effects:** Determining the significance of fertilizer's impact requires a frequentist mindset.\n",
    "\n",
    "\n",
    "\n",
    "![](./001_modeling_mindset_image.PNG)"
   ]
  },
  {
   "cell_type": "markdown",
   "metadata": {},
   "source": [
    "1. A Mindset Is A Perspective Of The World\n",
    "2. Mindsets Are Cultural\n",
    "3. Mindsets Are Archetypes (unbiased and pure)\n"
   ]
  },
  {
   "cell_type": "markdown",
   "metadata": {},
   "source": [
    "*A causal model is used to uncover the cause-and-effect relationships between variables in a system. They attempt to answer questions like \"What causes what?\" and \"How do changes in one variable impact others?*"
   ]
  },
  {
   "cell_type": "markdown",
   "metadata": {},
   "source": [
    "![](./003_mindest_type.PNG)"
   ]
  }
 ],
 "metadata": {
  "language_info": {
   "name": "python"
  },
  "orig_nbformat": 4
 },
 "nbformat": 4,
 "nbformat_minor": 2
}
